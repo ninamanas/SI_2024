{
  "nbformat": 4,
  "nbformat_minor": 0,
  "metadata": {
    "colab": {
      "provenance": [],
      "authorship_tag": "ABX9TyPsbXQdThYmBMTMGFr0nQqZ",
      "include_colab_link": true
    },
    "kernelspec": {
      "name": "python3",
      "display_name": "Python 3"
    },
    "language_info": {
      "name": "python"
    }
  },
  "cells": [
    {
      "cell_type": "markdown",
      "metadata": {
        "id": "view-in-github",
        "colab_type": "text"
      },
      "source": [
        "<a href=\"https://colab.research.google.com/github/ninamanas/SI_2024/blob/master/lab1.ipynb\" target=\"_parent\"><img src=\"https://colab.research.google.com/assets/colab-badge.svg\" alt=\"Open In Colab\"/></a>"
      ]
    },
    {
      "cell_type": "code",
      "execution_count": 1,
      "metadata": {
        "id": "whTM7xZ-oqRQ"
      },
      "outputs": [],
      "source": [
        "import requests\n",
        "from bs4 import BeautifulSoup\n",
        "import pandas as pd"
      ]
    },
    {
      "cell_type": "code",
      "source": [
        "base_url = \"https://clevershop.mk/product-category/mobilni-laptopi-i-tableti/page/%7B%7D/\""
      ],
      "metadata": {
        "id": "HpKePmFlowu-"
      },
      "execution_count": 2,
      "outputs": []
    },
    {
      "cell_type": "code",
      "source": [
        "#Lista za da stornuvam produkti\n",
        "products = []\n",
        "for page in range(1, 4):\n",
        "\n",
        "    url = base_url.format(page)\n",
        "    response = requests.get(url)"
      ],
      "metadata": {
        "id": "jzfgdaDBow49"
      },
      "execution_count": 3,
      "outputs": []
    },
    {
      "cell_type": "code",
      "source": [
        "  # Proveri status\n",
        "  if response.status_code != 200:\n",
        "        print(f\"Failed {page}\")\n",
        "\n",
        ""
      ],
      "metadata": {
        "colab": {
          "base_uri": "https://localhost:8080/"
        },
        "id": "u1BKLiKlow8W",
        "outputId": "4eb99261-49da-4fa0-fe11-0da7d76eac95"
      },
      "execution_count": 25,
      "outputs": [
        {
          "output_type": "stream",
          "name": "stdout",
          "text": [
            "Failed 3\n"
          ]
        }
      ]
    },
    {
      "cell_type": "code",
      "source": [
        " # Parsiranje so Bs\n",
        "soup = BeautifulSoup(response.content, 'html.parser')"
      ],
      "metadata": {
        "id": "eKMPDPY4ow_y"
      },
      "execution_count": 16,
      "outputs": []
    },
    {
      "cell_type": "code",
      "source": [
        "# izvleci podatoci za proizvodi od stranata\n",
        "for product in soup.select('.product'):\n",
        "        # Naslov\n",
        "        title = product.select_one('.wd-entities-title').text.strip()\n",
        "        # ceni so popust ili bez\n",
        "        prices = product.select('.woocommerce-Price-amount')\n",
        "        regular_price = prices[0].text.strip() if prices else None\n",
        "        discount_price = prices[1].text.strip() if len(prices) > 1 else None\n",
        "\n",
        "        # URL\n",
        "        product_url = product.select_one('.wd-entities-title a')['href']\n",
        "\n",
        "        # Add to Cart button i  URL\n",
        "        add_to_cart_button = product.select_one('.add_to_cart_button')\n",
        "        add_to_cart_url = add_to_cart_button['href'] if add_to_cart_button else None\n",
        "\n",
        "          # Da dodadam vo listata\n",
        "        products.append({\n",
        "            'Title': title,\n",
        "            'Regular Price': regular_price,\n",
        "            'Discount Price': discount_price,\n",
        "            'Product URL': product_url,\n",
        "            'Add to Cart URL': add_to_cart_url\n",
        "        })\n",
        "\n",
        "        df = pd.DataFrame(products)\n",
        "        df.to_csv(\"products.csv\", index=False)\n",
        "        print(df.head())\n",
        "\n",
        "\n",
        "\n"
      ],
      "metadata": {
        "id": "mCtwZAk9q37Y"
      },
      "execution_count": 40,
      "outputs": []
    },
    {
      "cell_type": "code",
      "source": [],
      "metadata": {
        "colab": {
          "base_uri": "https://localhost:8080/"
        },
        "id": "Sj4lDII-q-i7",
        "outputId": "63c78c39-fcde-4dcb-dd00-df70428cef8d"
      },
      "execution_count": 35,
      "outputs": [
        {
          "output_type": "execute_result",
          "data": {
            "text/plain": [
              "[]"
            ]
          },
          "metadata": {},
          "execution_count": 35
        }
      ]
    }
  ]
}